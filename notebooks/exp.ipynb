{
 "cells": [
  {
   "cell_type": "code",
   "execution_count": 1,
   "id": "35f081aa-d80f-4ed8-a58f-71c480b579e4",
   "metadata": {},
   "outputs": [
    {
     "name": "stdout",
     "output_type": "stream",
     "text": [
      "/Users/mhdave/Desktop/urssi-school/packages/simple/simple/__init__.py\n"
     ]
    }
   ],
   "source": [
    "import simple\n",
    "print(simple.__file__)"
   ]
  }
 ],
 "metadata": {
  "kernelspec": {
   "display_name": "Python 3 (ipykernel)",
   "language": "python",
   "name": "python3"
  },
  "language_info": {
   "codemirror_mode": {
    "name": "ipython",
    "version": 3
   },
   "file_extension": ".py",
   "mimetype": "text/x-python",
   "name": "python",
   "nbconvert_exporter": "python",
   "pygments_lexer": "ipython3",
   "version": "3.12.4"
  }
 },
 "nbformat": 4,
 "nbformat_minor": 5
}
